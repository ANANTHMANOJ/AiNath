{
 "cells": [
  {
   "cell_type": "code",
   "execution_count": 32,
   "id": "02cdea75",
   "metadata": {},
   "outputs": [],
   "source": [
    "import pandas as pd\n",
    "import numpy as np\n",
    "import os\n",
    "import streamlit as st\n",
    "from dotenv import load_dotenv\n",
    "from langchain_groq import ChatGroq\n",
    "from langchain.prompts import ChatPromptTemplate  \n",
    "from langchain_community.document_loaders import PyPDFDirectoryLoader  \n",
    "from langchain.text_splitter import RecursiveCharacterTextSplitter\n",
    "from langchain_community.embeddings import OllamaEmbeddings\n",
    "from langchain_community.vectorstores import FAISS\n",
    "from langchain.chains import create_retrieval_chain\n",
    "from langchain.chains.combine_documents import create_stuff_documents_chain\n"
   ]
  },
  {
   "cell_type": "code",
   "execution_count": 11,
   "id": "e00d3f39",
   "metadata": {},
   "outputs": [],
   "source": [
    "load_dotenv()\n",
    "os.environ[\"GROQ_API_KEY\"]  = os.getenv(\"GROQ_API_KEY\")\n"
   ]
  },
  {
   "cell_type": "code",
   "execution_count": 15,
   "id": "49a85f3c",
   "metadata": {},
   "outputs": [
    {
     "data": {
      "text/plain": [
       "AIMessage(content=\"Hello! As an AI, I don't have feelings or physical sensations, but I'm here and ready to help you. How can I assist you today?\", additional_kwargs={}, response_metadata={'token_usage': {'completion_tokens': 33, 'prompt_tokens': 34, 'total_tokens': 67, 'completion_time': 0.165, 'prompt_time': 0.003911969, 'queue_time': 0.049031211, 'total_time': 0.168911969}, 'model_name': 'qwen-2.5-32b', 'system_fingerprint': 'fp_92412bc7e4', 'finish_reason': 'stop', 'logprobs': None}, id='run-8ec482e1-c66e-46da-9aeb-83b36ff6fc06-0', usage_metadata={'input_tokens': 34, 'output_tokens': 33, 'total_tokens': 67})"
      ]
     },
     "execution_count": 15,
     "metadata": {},
     "output_type": "execute_result"
    }
   ],
   "source": [
    "llm = ChatGroq(model=\"qwen-2.5-32b\")\n",
    "llm.invoke(\"Hi How are you ?\")"
   ]
  },
  {
   "cell_type": "code",
   "execution_count": 18,
   "id": "5cd51fcf",
   "metadata": {},
   "outputs": [],
   "source": [
    "prompt = ChatPromptTemplate.from_template(\"\"\"\n",
    "Assume you are an Assistant of the person in the context.\n",
    "Please provide the most accurate answer based on the questions in formal and attractive way. \n",
    "Answer the questions based on the context only\n",
    "<context>\n",
    "{context}\n",
    "<context>\n",
    "Question: {input}\n",
    "\"\"\")"
   ]
  },
  {
   "cell_type": "code",
   "execution_count": 31,
   "id": "054dd49c",
   "metadata": {},
   "outputs": [],
   "source": [
    "def create_vector_embeddings():\n",
    "    if 'vector' not in st.session_state:\n",
    "        st.session_state.loader = PyPDFDirectoryLoader(\"docs\")\n",
    "        st.session_state.docs = st.session_state.loader.load()\n",
    "        st.session_state.text_splitter = RecursiveCharacterTextSplitter(chunk_size = 500, chunk_overlap = 0)\n",
    "        st.session_state.final_docs = st.session_state.text_splitter.split_documents(st.session_state.docs)\n",
    "        st.session_state.embeddings = OllamaEmbeddings(model=\"llama3.2:1b\")\n",
    "        st.session_state.vectorstore = FAISS.from_documents(documents=st.session_state.final_docs, embedding=st.session_state.embeddings)\n",
    "        "
   ]
  },
  {
   "cell_type": "code",
   "execution_count": null,
   "id": "536a5a2d",
   "metadata": {},
   "outputs": [],
   "source": [
    "st.set_page_config(page_title=\"Know About Ananthmanoj\")\n",
    "st.title(\"Know About Ananthmanoj\")\n",
    "\n",
    "\n",
    "try:\n",
    "    with st.spinner(\"Getting ready...\"):\n",
    "        create_vector_embeddings()\n",
    "        st.success(\"Connected\")\n",
    "    \n",
    "    user_prompt = st.text_input(\"Hi, I am ___, What quetion do you have about my Master ?\")\n",
    "    if user_prompt:\n",
    "        with st.spinner(\"He has many good things...let me summarise\",show_time= True):\n",
    "            doc_chain = create_stuff_documents_chain(llm=llm, prompt= prompt)\n",
    "            retriever = st.session_state.vectorstore.as_retriever()\n",
    "            rertriever_chain = create_retrieval_chain(retriever, doc_chain)\n",
    "            response = rertriever_chain.invoke({\"input\":user_prompt})\n",
    "            st.success(response['answer'])\n",
    "\n",
    "        with st.expander(\"Similar results :\"):\n",
    "            for i,d in enumerate(response[\"context\"]):\n",
    "                st.write(d.page_content)\n",
    "                st.write(\"------------------------------------\")\n",
    "\n",
    "    \n",
    "except Exception as e:\n",
    "    st.write(f\"ERROR!! Contact My Master \\n error: ({e})\")"
   ]
  }
 ],
 "metadata": {
  "kernelspec": {
   "display_name": "Python 3",
   "language": "python",
   "name": "python3"
  },
  "language_info": {
   "codemirror_mode": {
    "name": "ipython",
    "version": 3
   },
   "file_extension": ".py",
   "mimetype": "text/x-python",
   "name": "python",
   "nbconvert_exporter": "python",
   "pygments_lexer": "ipython3",
   "version": "3.10.16"
  }
 },
 "nbformat": 4,
 "nbformat_minor": 5
}
